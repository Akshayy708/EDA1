{
 "cells": [
  {
   "cell_type": "code",
   "execution_count": 2,
   "metadata": {},
   "outputs": [],
   "source": [
    "#Importing the modules\n",
    "import pandas as pd\n",
    "import numpy as np\n",
    "import matplotlib\n",
    "from matplotlib import pyplot as plt\n",
    "import seaborn as sns"
   ]
  },
  {
   "cell_type": "code",
   "execution_count": 3,
   "metadata": {},
   "outputs": [],
   "source": [
    "#Reading the dataset\n",
    "df = pd.read_csv(\"D:/IMS Proschool/BUSINESS ANALYTICS(1)/EDA/Practice Material/Case 1/SalesKaggle3 (1).csv\")\n"
   ]
  },
  {
   "cell_type": "code",
   "execution_count": 5,
   "metadata": {},
   "outputs": [
    {
     "data": {
      "text/html": [
       "<div>\n",
       "<style scoped>\n",
       "    .dataframe tbody tr th:only-of-type {\n",
       "        vertical-align: middle;\n",
       "    }\n",
       "\n",
       "    .dataframe tbody tr th {\n",
       "        vertical-align: top;\n",
       "    }\n",
       "\n",
       "    .dataframe thead th {\n",
       "        text-align: right;\n",
       "    }\n",
       "</style>\n",
       "<table border=\"1\" class=\"dataframe\">\n",
       "  <thead>\n",
       "    <tr style=\"text-align: right;\">\n",
       "      <th></th>\n",
       "      <th>Order</th>\n",
       "      <th>File_Type</th>\n",
       "      <th>SKU_number</th>\n",
       "      <th>SoldFlag</th>\n",
       "      <th>SoldCount</th>\n",
       "      <th>MarketingType</th>\n",
       "      <th>ReleaseNumber</th>\n",
       "      <th>New_Release_Flag</th>\n",
       "      <th>StrengthFactor</th>\n",
       "      <th>PriceReg</th>\n",
       "      <th>ReleaseYear</th>\n",
       "      <th>ItemCount</th>\n",
       "      <th>LowUserPrice</th>\n",
       "      <th>LowNetPrice</th>\n",
       "    </tr>\n",
       "  </thead>\n",
       "  <tbody>\n",
       "    <tr>\n",
       "      <td>0</td>\n",
       "      <td>2</td>\n",
       "      <td>Historical</td>\n",
       "      <td>1737127</td>\n",
       "      <td>0.0</td>\n",
       "      <td>0.0</td>\n",
       "      <td>D</td>\n",
       "      <td>15</td>\n",
       "      <td>1</td>\n",
       "      <td>682743.0</td>\n",
       "      <td>44.99</td>\n",
       "      <td>2015</td>\n",
       "      <td>8</td>\n",
       "      <td>28.97</td>\n",
       "      <td>31.84</td>\n",
       "    </tr>\n",
       "    <tr>\n",
       "      <td>1</td>\n",
       "      <td>3</td>\n",
       "      <td>Historical</td>\n",
       "      <td>3255963</td>\n",
       "      <td>0.0</td>\n",
       "      <td>0.0</td>\n",
       "      <td>D</td>\n",
       "      <td>7</td>\n",
       "      <td>1</td>\n",
       "      <td>1016014.0</td>\n",
       "      <td>24.81</td>\n",
       "      <td>2005</td>\n",
       "      <td>39</td>\n",
       "      <td>0.00</td>\n",
       "      <td>15.54</td>\n",
       "    </tr>\n",
       "    <tr>\n",
       "      <td>2</td>\n",
       "      <td>4</td>\n",
       "      <td>Historical</td>\n",
       "      <td>612701</td>\n",
       "      <td>0.0</td>\n",
       "      <td>0.0</td>\n",
       "      <td>D</td>\n",
       "      <td>0</td>\n",
       "      <td>0</td>\n",
       "      <td>340464.0</td>\n",
       "      <td>46.00</td>\n",
       "      <td>2013</td>\n",
       "      <td>34</td>\n",
       "      <td>30.19</td>\n",
       "      <td>27.97</td>\n",
       "    </tr>\n",
       "    <tr>\n",
       "      <td>3</td>\n",
       "      <td>6</td>\n",
       "      <td>Historical</td>\n",
       "      <td>115883</td>\n",
       "      <td>1.0</td>\n",
       "      <td>1.0</td>\n",
       "      <td>D</td>\n",
       "      <td>4</td>\n",
       "      <td>1</td>\n",
       "      <td>334011.0</td>\n",
       "      <td>100.00</td>\n",
       "      <td>2006</td>\n",
       "      <td>20</td>\n",
       "      <td>133.93</td>\n",
       "      <td>83.15</td>\n",
       "    </tr>\n",
       "    <tr>\n",
       "      <td>4</td>\n",
       "      <td>7</td>\n",
       "      <td>Historical</td>\n",
       "      <td>863939</td>\n",
       "      <td>1.0</td>\n",
       "      <td>1.0</td>\n",
       "      <td>D</td>\n",
       "      <td>2</td>\n",
       "      <td>1</td>\n",
       "      <td>1287938.0</td>\n",
       "      <td>121.95</td>\n",
       "      <td>2010</td>\n",
       "      <td>28</td>\n",
       "      <td>4.00</td>\n",
       "      <td>23.99</td>\n",
       "    </tr>\n",
       "  </tbody>\n",
       "</table>\n",
       "</div>"
      ],
      "text/plain": [
       "   Order   File_Type  SKU_number  SoldFlag  SoldCount MarketingType  \\\n",
       "0      2  Historical     1737127       0.0        0.0             D   \n",
       "1      3  Historical     3255963       0.0        0.0             D   \n",
       "2      4  Historical      612701       0.0        0.0             D   \n",
       "3      6  Historical      115883       1.0        1.0             D   \n",
       "4      7  Historical      863939       1.0        1.0             D   \n",
       "\n",
       "   ReleaseNumber  New_Release_Flag  StrengthFactor  PriceReg  ReleaseYear  \\\n",
       "0             15                 1        682743.0     44.99         2015   \n",
       "1              7                 1       1016014.0     24.81         2005   \n",
       "2              0                 0        340464.0     46.00         2013   \n",
       "3              4                 1        334011.0    100.00         2006   \n",
       "4              2                 1       1287938.0    121.95         2010   \n",
       "\n",
       "   ItemCount  LowUserPrice  LowNetPrice  \n",
       "0          8         28.97        31.84  \n",
       "1         39          0.00        15.54  \n",
       "2         34         30.19        27.97  \n",
       "3         20        133.93        83.15  \n",
       "4         28          4.00        23.99  "
      ]
     },
     "execution_count": 5,
     "metadata": {},
     "output_type": "execute_result"
    }
   ],
   "source": [
    "df.head()"
   ]
  },
  {
   "cell_type": "code",
   "execution_count": 6,
   "metadata": {},
   "outputs": [
    {
     "data": {
      "text/html": [
       "<div>\n",
       "<style scoped>\n",
       "    .dataframe tbody tr th:only-of-type {\n",
       "        vertical-align: middle;\n",
       "    }\n",
       "\n",
       "    .dataframe tbody tr th {\n",
       "        vertical-align: top;\n",
       "    }\n",
       "\n",
       "    .dataframe thead th {\n",
       "        text-align: right;\n",
       "    }\n",
       "</style>\n",
       "<table border=\"1\" class=\"dataframe\">\n",
       "  <thead>\n",
       "    <tr style=\"text-align: right;\">\n",
       "      <th></th>\n",
       "      <th>Order</th>\n",
       "      <th>SKU_number</th>\n",
       "      <th>SoldFlag</th>\n",
       "      <th>SoldCount</th>\n",
       "      <th>ReleaseNumber</th>\n",
       "      <th>New_Release_Flag</th>\n",
       "      <th>StrengthFactor</th>\n",
       "      <th>PriceReg</th>\n",
       "      <th>ReleaseYear</th>\n",
       "      <th>ItemCount</th>\n",
       "      <th>LowUserPrice</th>\n",
       "      <th>LowNetPrice</th>\n",
       "    </tr>\n",
       "  </thead>\n",
       "  <tbody>\n",
       "    <tr>\n",
       "      <td>count</td>\n",
       "      <td>198917.000000</td>\n",
       "      <td>1.989170e+05</td>\n",
       "      <td>75996.000000</td>\n",
       "      <td>75996.000000</td>\n",
       "      <td>198917.000000</td>\n",
       "      <td>198917.000000</td>\n",
       "      <td>1.989170e+05</td>\n",
       "      <td>198917.000000</td>\n",
       "      <td>198917.000000</td>\n",
       "      <td>198917.000000</td>\n",
       "      <td>198917.000000</td>\n",
       "      <td>198917.000000</td>\n",
       "    </tr>\n",
       "    <tr>\n",
       "      <td>mean</td>\n",
       "      <td>106483.543242</td>\n",
       "      <td>8.613626e+05</td>\n",
       "      <td>0.171009</td>\n",
       "      <td>0.322306</td>\n",
       "      <td>3.412202</td>\n",
       "      <td>0.642248</td>\n",
       "      <td>1.117115e+06</td>\n",
       "      <td>90.895243</td>\n",
       "      <td>2006.016414</td>\n",
       "      <td>41.426283</td>\n",
       "      <td>30.982487</td>\n",
       "      <td>46.832053</td>\n",
       "    </tr>\n",
       "    <tr>\n",
       "      <td>std</td>\n",
       "      <td>60136.716784</td>\n",
       "      <td>8.699794e+05</td>\n",
       "      <td>0.376519</td>\n",
       "      <td>1.168615</td>\n",
       "      <td>3.864243</td>\n",
       "      <td>0.479340</td>\n",
       "      <td>1.522090e+06</td>\n",
       "      <td>86.736367</td>\n",
       "      <td>9.158331</td>\n",
       "      <td>37.541215</td>\n",
       "      <td>69.066155</td>\n",
       "      <td>128.513236</td>\n",
       "    </tr>\n",
       "    <tr>\n",
       "      <td>min</td>\n",
       "      <td>2.000000</td>\n",
       "      <td>5.000100e+04</td>\n",
       "      <td>0.000000</td>\n",
       "      <td>0.000000</td>\n",
       "      <td>0.000000</td>\n",
       "      <td>0.000000</td>\n",
       "      <td>6.275000e+00</td>\n",
       "      <td>0.000000</td>\n",
       "      <td>0.000000</td>\n",
       "      <td>0.000000</td>\n",
       "      <td>0.000000</td>\n",
       "      <td>0.000000</td>\n",
       "    </tr>\n",
       "    <tr>\n",
       "      <td>25%</td>\n",
       "      <td>55665.000000</td>\n",
       "      <td>2.172520e+05</td>\n",
       "      <td>0.000000</td>\n",
       "      <td>0.000000</td>\n",
       "      <td>1.000000</td>\n",
       "      <td>0.000000</td>\n",
       "      <td>1.614188e+05</td>\n",
       "      <td>42.000000</td>\n",
       "      <td>2003.000000</td>\n",
       "      <td>21.000000</td>\n",
       "      <td>4.910000</td>\n",
       "      <td>17.950000</td>\n",
       "    </tr>\n",
       "    <tr>\n",
       "      <td>50%</td>\n",
       "      <td>108569.000000</td>\n",
       "      <td>6.122080e+05</td>\n",
       "      <td>0.000000</td>\n",
       "      <td>0.000000</td>\n",
       "      <td>2.000000</td>\n",
       "      <td>1.000000</td>\n",
       "      <td>5.822240e+05</td>\n",
       "      <td>69.950000</td>\n",
       "      <td>2007.000000</td>\n",
       "      <td>32.000000</td>\n",
       "      <td>16.080000</td>\n",
       "      <td>33.980000</td>\n",
       "    </tr>\n",
       "    <tr>\n",
       "      <td>75%</td>\n",
       "      <td>158298.000000</td>\n",
       "      <td>9.047510e+05</td>\n",
       "      <td>0.000000</td>\n",
       "      <td>0.000000</td>\n",
       "      <td>5.000000</td>\n",
       "      <td>1.000000</td>\n",
       "      <td>1.430083e+06</td>\n",
       "      <td>116.000000</td>\n",
       "      <td>2011.000000</td>\n",
       "      <td>50.000000</td>\n",
       "      <td>40.240000</td>\n",
       "      <td>55.490000</td>\n",
       "    </tr>\n",
       "    <tr>\n",
       "      <td>max</td>\n",
       "      <td>208027.000000</td>\n",
       "      <td>3.960788e+06</td>\n",
       "      <td>1.000000</td>\n",
       "      <td>73.000000</td>\n",
       "      <td>99.000000</td>\n",
       "      <td>1.000000</td>\n",
       "      <td>1.738445e+07</td>\n",
       "      <td>12671.480000</td>\n",
       "      <td>2018.000000</td>\n",
       "      <td>2542.000000</td>\n",
       "      <td>14140.210000</td>\n",
       "      <td>19138.790000</td>\n",
       "    </tr>\n",
       "  </tbody>\n",
       "</table>\n",
       "</div>"
      ],
      "text/plain": [
       "               Order    SKU_number      SoldFlag     SoldCount  ReleaseNumber  \\\n",
       "count  198917.000000  1.989170e+05  75996.000000  75996.000000  198917.000000   \n",
       "mean   106483.543242  8.613626e+05      0.171009      0.322306       3.412202   \n",
       "std     60136.716784  8.699794e+05      0.376519      1.168615       3.864243   \n",
       "min         2.000000  5.000100e+04      0.000000      0.000000       0.000000   \n",
       "25%     55665.000000  2.172520e+05      0.000000      0.000000       1.000000   \n",
       "50%    108569.000000  6.122080e+05      0.000000      0.000000       2.000000   \n",
       "75%    158298.000000  9.047510e+05      0.000000      0.000000       5.000000   \n",
       "max    208027.000000  3.960788e+06      1.000000     73.000000      99.000000   \n",
       "\n",
       "       New_Release_Flag  StrengthFactor       PriceReg    ReleaseYear  \\\n",
       "count     198917.000000    1.989170e+05  198917.000000  198917.000000   \n",
       "mean           0.642248    1.117115e+06      90.895243    2006.016414   \n",
       "std            0.479340    1.522090e+06      86.736367       9.158331   \n",
       "min            0.000000    6.275000e+00       0.000000       0.000000   \n",
       "25%            0.000000    1.614188e+05      42.000000    2003.000000   \n",
       "50%            1.000000    5.822240e+05      69.950000    2007.000000   \n",
       "75%            1.000000    1.430083e+06     116.000000    2011.000000   \n",
       "max            1.000000    1.738445e+07   12671.480000    2018.000000   \n",
       "\n",
       "           ItemCount   LowUserPrice    LowNetPrice  \n",
       "count  198917.000000  198917.000000  198917.000000  \n",
       "mean       41.426283      30.982487      46.832053  \n",
       "std        37.541215      69.066155     128.513236  \n",
       "min         0.000000       0.000000       0.000000  \n",
       "25%        21.000000       4.910000      17.950000  \n",
       "50%        32.000000      16.080000      33.980000  \n",
       "75%        50.000000      40.240000      55.490000  \n",
       "max      2542.000000   14140.210000   19138.790000  "
      ]
     },
     "execution_count": 6,
     "metadata": {},
     "output_type": "execute_result"
    }
   ],
   "source": [
    "df.describe()"
   ]
  },
  {
   "cell_type": "code",
   "execution_count": 8,
   "metadata": {},
   "outputs": [
    {
     "data": {
      "text/html": [
       "<div>\n",
       "<style scoped>\n",
       "    .dataframe tbody tr th:only-of-type {\n",
       "        vertical-align: middle;\n",
       "    }\n",
       "\n",
       "    .dataframe tbody tr th {\n",
       "        vertical-align: top;\n",
       "    }\n",
       "\n",
       "    .dataframe thead th {\n",
       "        text-align: right;\n",
       "    }\n",
       "</style>\n",
       "<table border=\"1\" class=\"dataframe\">\n",
       "  <thead>\n",
       "    <tr style=\"text-align: right;\">\n",
       "      <th></th>\n",
       "      <th>Order</th>\n",
       "      <th>File_Type</th>\n",
       "      <th>SKU_number</th>\n",
       "      <th>SoldFlag</th>\n",
       "      <th>SoldCount</th>\n",
       "      <th>MarketingType</th>\n",
       "      <th>ReleaseNumber</th>\n",
       "      <th>New_Release_Flag</th>\n",
       "      <th>StrengthFactor</th>\n",
       "      <th>PriceReg</th>\n",
       "      <th>ReleaseYear</th>\n",
       "      <th>ItemCount</th>\n",
       "      <th>LowUserPrice</th>\n",
       "      <th>LowNetPrice</th>\n",
       "    </tr>\n",
       "  </thead>\n",
       "  <tbody>\n",
       "    <tr>\n",
       "      <td>count</td>\n",
       "      <td>198917.000000</td>\n",
       "      <td>198917</td>\n",
       "      <td>1.989170e+05</td>\n",
       "      <td>75996.000000</td>\n",
       "      <td>75996.000000</td>\n",
       "      <td>198917</td>\n",
       "      <td>198917.000000</td>\n",
       "      <td>198917.000000</td>\n",
       "      <td>1.989170e+05</td>\n",
       "      <td>198917.000000</td>\n",
       "      <td>198917.000000</td>\n",
       "      <td>198917.000000</td>\n",
       "      <td>198917.000000</td>\n",
       "      <td>198917.000000</td>\n",
       "    </tr>\n",
       "    <tr>\n",
       "      <td>unique</td>\n",
       "      <td>NaN</td>\n",
       "      <td>2</td>\n",
       "      <td>NaN</td>\n",
       "      <td>NaN</td>\n",
       "      <td>NaN</td>\n",
       "      <td>2</td>\n",
       "      <td>NaN</td>\n",
       "      <td>NaN</td>\n",
       "      <td>NaN</td>\n",
       "      <td>NaN</td>\n",
       "      <td>NaN</td>\n",
       "      <td>NaN</td>\n",
       "      <td>NaN</td>\n",
       "      <td>NaN</td>\n",
       "    </tr>\n",
       "    <tr>\n",
       "      <td>top</td>\n",
       "      <td>NaN</td>\n",
       "      <td>Active</td>\n",
       "      <td>NaN</td>\n",
       "      <td>NaN</td>\n",
       "      <td>NaN</td>\n",
       "      <td>S</td>\n",
       "      <td>NaN</td>\n",
       "      <td>NaN</td>\n",
       "      <td>NaN</td>\n",
       "      <td>NaN</td>\n",
       "      <td>NaN</td>\n",
       "      <td>NaN</td>\n",
       "      <td>NaN</td>\n",
       "      <td>NaN</td>\n",
       "    </tr>\n",
       "    <tr>\n",
       "      <td>freq</td>\n",
       "      <td>NaN</td>\n",
       "      <td>122921</td>\n",
       "      <td>NaN</td>\n",
       "      <td>NaN</td>\n",
       "      <td>NaN</td>\n",
       "      <td>100946</td>\n",
       "      <td>NaN</td>\n",
       "      <td>NaN</td>\n",
       "      <td>NaN</td>\n",
       "      <td>NaN</td>\n",
       "      <td>NaN</td>\n",
       "      <td>NaN</td>\n",
       "      <td>NaN</td>\n",
       "      <td>NaN</td>\n",
       "    </tr>\n",
       "    <tr>\n",
       "      <td>mean</td>\n",
       "      <td>106483.543242</td>\n",
       "      <td>NaN</td>\n",
       "      <td>8.613626e+05</td>\n",
       "      <td>0.171009</td>\n",
       "      <td>0.322306</td>\n",
       "      <td>NaN</td>\n",
       "      <td>3.412202</td>\n",
       "      <td>0.642248</td>\n",
       "      <td>1.117115e+06</td>\n",
       "      <td>90.895243</td>\n",
       "      <td>2006.016414</td>\n",
       "      <td>41.426283</td>\n",
       "      <td>30.982487</td>\n",
       "      <td>46.832053</td>\n",
       "    </tr>\n",
       "    <tr>\n",
       "      <td>std</td>\n",
       "      <td>60136.716784</td>\n",
       "      <td>NaN</td>\n",
       "      <td>8.699794e+05</td>\n",
       "      <td>0.376519</td>\n",
       "      <td>1.168615</td>\n",
       "      <td>NaN</td>\n",
       "      <td>3.864243</td>\n",
       "      <td>0.479340</td>\n",
       "      <td>1.522090e+06</td>\n",
       "      <td>86.736367</td>\n",
       "      <td>9.158331</td>\n",
       "      <td>37.541215</td>\n",
       "      <td>69.066155</td>\n",
       "      <td>128.513236</td>\n",
       "    </tr>\n",
       "    <tr>\n",
       "      <td>min</td>\n",
       "      <td>2.000000</td>\n",
       "      <td>NaN</td>\n",
       "      <td>5.000100e+04</td>\n",
       "      <td>0.000000</td>\n",
       "      <td>0.000000</td>\n",
       "      <td>NaN</td>\n",
       "      <td>0.000000</td>\n",
       "      <td>0.000000</td>\n",
       "      <td>6.275000e+00</td>\n",
       "      <td>0.000000</td>\n",
       "      <td>0.000000</td>\n",
       "      <td>0.000000</td>\n",
       "      <td>0.000000</td>\n",
       "      <td>0.000000</td>\n",
       "    </tr>\n",
       "    <tr>\n",
       "      <td>25%</td>\n",
       "      <td>55665.000000</td>\n",
       "      <td>NaN</td>\n",
       "      <td>2.172520e+05</td>\n",
       "      <td>0.000000</td>\n",
       "      <td>0.000000</td>\n",
       "      <td>NaN</td>\n",
       "      <td>1.000000</td>\n",
       "      <td>0.000000</td>\n",
       "      <td>1.614188e+05</td>\n",
       "      <td>42.000000</td>\n",
       "      <td>2003.000000</td>\n",
       "      <td>21.000000</td>\n",
       "      <td>4.910000</td>\n",
       "      <td>17.950000</td>\n",
       "    </tr>\n",
       "    <tr>\n",
       "      <td>50%</td>\n",
       "      <td>108569.000000</td>\n",
       "      <td>NaN</td>\n",
       "      <td>6.122080e+05</td>\n",
       "      <td>0.000000</td>\n",
       "      <td>0.000000</td>\n",
       "      <td>NaN</td>\n",
       "      <td>2.000000</td>\n",
       "      <td>1.000000</td>\n",
       "      <td>5.822240e+05</td>\n",
       "      <td>69.950000</td>\n",
       "      <td>2007.000000</td>\n",
       "      <td>32.000000</td>\n",
       "      <td>16.080000</td>\n",
       "      <td>33.980000</td>\n",
       "    </tr>\n",
       "    <tr>\n",
       "      <td>75%</td>\n",
       "      <td>158298.000000</td>\n",
       "      <td>NaN</td>\n",
       "      <td>9.047510e+05</td>\n",
       "      <td>0.000000</td>\n",
       "      <td>0.000000</td>\n",
       "      <td>NaN</td>\n",
       "      <td>5.000000</td>\n",
       "      <td>1.000000</td>\n",
       "      <td>1.430083e+06</td>\n",
       "      <td>116.000000</td>\n",
       "      <td>2011.000000</td>\n",
       "      <td>50.000000</td>\n",
       "      <td>40.240000</td>\n",
       "      <td>55.490000</td>\n",
       "    </tr>\n",
       "    <tr>\n",
       "      <td>max</td>\n",
       "      <td>208027.000000</td>\n",
       "      <td>NaN</td>\n",
       "      <td>3.960788e+06</td>\n",
       "      <td>1.000000</td>\n",
       "      <td>73.000000</td>\n",
       "      <td>NaN</td>\n",
       "      <td>99.000000</td>\n",
       "      <td>1.000000</td>\n",
       "      <td>1.738445e+07</td>\n",
       "      <td>12671.480000</td>\n",
       "      <td>2018.000000</td>\n",
       "      <td>2542.000000</td>\n",
       "      <td>14140.210000</td>\n",
       "      <td>19138.790000</td>\n",
       "    </tr>\n",
       "  </tbody>\n",
       "</table>\n",
       "</div>"
      ],
      "text/plain": [
       "                Order File_Type    SKU_number      SoldFlag     SoldCount  \\\n",
       "count   198917.000000    198917  1.989170e+05  75996.000000  75996.000000   \n",
       "unique            NaN         2           NaN           NaN           NaN   \n",
       "top               NaN    Active           NaN           NaN           NaN   \n",
       "freq              NaN    122921           NaN           NaN           NaN   \n",
       "mean    106483.543242       NaN  8.613626e+05      0.171009      0.322306   \n",
       "std      60136.716784       NaN  8.699794e+05      0.376519      1.168615   \n",
       "min          2.000000       NaN  5.000100e+04      0.000000      0.000000   \n",
       "25%      55665.000000       NaN  2.172520e+05      0.000000      0.000000   \n",
       "50%     108569.000000       NaN  6.122080e+05      0.000000      0.000000   \n",
       "75%     158298.000000       NaN  9.047510e+05      0.000000      0.000000   \n",
       "max     208027.000000       NaN  3.960788e+06      1.000000     73.000000   \n",
       "\n",
       "       MarketingType  ReleaseNumber  New_Release_Flag  StrengthFactor  \\\n",
       "count         198917  198917.000000     198917.000000    1.989170e+05   \n",
       "unique             2            NaN               NaN             NaN   \n",
       "top                S            NaN               NaN             NaN   \n",
       "freq          100946            NaN               NaN             NaN   \n",
       "mean             NaN       3.412202          0.642248    1.117115e+06   \n",
       "std              NaN       3.864243          0.479340    1.522090e+06   \n",
       "min              NaN       0.000000          0.000000    6.275000e+00   \n",
       "25%              NaN       1.000000          0.000000    1.614188e+05   \n",
       "50%              NaN       2.000000          1.000000    5.822240e+05   \n",
       "75%              NaN       5.000000          1.000000    1.430083e+06   \n",
       "max              NaN      99.000000          1.000000    1.738445e+07   \n",
       "\n",
       "             PriceReg    ReleaseYear      ItemCount   LowUserPrice  \\\n",
       "count   198917.000000  198917.000000  198917.000000  198917.000000   \n",
       "unique            NaN            NaN            NaN            NaN   \n",
       "top               NaN            NaN            NaN            NaN   \n",
       "freq              NaN            NaN            NaN            NaN   \n",
       "mean        90.895243    2006.016414      41.426283      30.982487   \n",
       "std         86.736367       9.158331      37.541215      69.066155   \n",
       "min          0.000000       0.000000       0.000000       0.000000   \n",
       "25%         42.000000    2003.000000      21.000000       4.910000   \n",
       "50%         69.950000    2007.000000      32.000000      16.080000   \n",
       "75%        116.000000    2011.000000      50.000000      40.240000   \n",
       "max      12671.480000    2018.000000    2542.000000   14140.210000   \n",
       "\n",
       "          LowNetPrice  \n",
       "count   198917.000000  \n",
       "unique            NaN  \n",
       "top               NaN  \n",
       "freq              NaN  \n",
       "mean        46.832053  \n",
       "std        128.513236  \n",
       "min          0.000000  \n",
       "25%         17.950000  \n",
       "50%         33.980000  \n",
       "75%         55.490000  \n",
       "max      19138.790000  "
      ]
     },
     "execution_count": 8,
     "metadata": {},
     "output_type": "execute_result"
    }
   ],
   "source": [
    "# Here we will get the NaN for the summary field which are not appropriate for that datatype\n",
    "df.describe(include=\"all\")"
   ]
  },
  {
   "cell_type": "code",
   "execution_count": 9,
   "metadata": {},
   "outputs": [
    {
     "data": {
      "text/plain": [
       "(198917, 14)"
      ]
     },
     "execution_count": 9,
     "metadata": {},
     "output_type": "execute_result"
    }
   ],
   "source": [
    "# Let us check the shape of data\n",
    "df.shape"
   ]
  },
  {
   "cell_type": "code",
   "execution_count": 10,
   "metadata": {},
   "outputs": [
    {
     "data": {
      "text/plain": [
       "Order               198917\n",
       "File_Type                2\n",
       "SKU_number          133360\n",
       "SoldFlag                 2\n",
       "SoldCount               37\n",
       "MarketingType            2\n",
       "ReleaseNumber           71\n",
       "New_Release_Flag         2\n",
       "StrengthFactor      197424\n",
       "PriceReg             11627\n",
       "ReleaseYear             85\n",
       "ItemCount              501\n",
       "LowUserPrice         12102\n",
       "LowNetPrice          15403\n",
       "dtype: int64"
      ]
     },
     "execution_count": 10,
     "metadata": {},
     "output_type": "execute_result"
    }
   ],
   "source": [
    "# Let us check if we have duplicate values in the columns\n",
    "df.nunique()"
   ]
  },
  {
   "cell_type": "markdown",
   "metadata": {},
   "source": [
    "# Missing Value Imputation"
   ]
  },
  {
   "cell_type": "code",
   "execution_count": 11,
   "metadata": {},
   "outputs": [
    {
     "data": {
      "text/plain": [
       "Order                    0\n",
       "File_Type                0\n",
       "SKU_number               0\n",
       "SoldFlag            122921\n",
       "SoldCount           122921\n",
       "MarketingType            0\n",
       "ReleaseNumber            0\n",
       "New_Release_Flag         0\n",
       "StrengthFactor           0\n",
       "PriceReg                 0\n",
       "ReleaseYear              0\n",
       "ItemCount                0\n",
       "LowUserPrice             0\n",
       "LowNetPrice              0\n",
       "dtype: int64"
      ]
     },
     "execution_count": 11,
     "metadata": {},
     "output_type": "execute_result"
    }
   ],
   "source": [
    "df.isnull().sum()"
   ]
  },
  {
   "cell_type": "code",
   "execution_count": 13,
   "metadata": {},
   "outputs": [
    {
     "data": {
      "text/plain": [
       "Order               0\n",
       "File_Type           0\n",
       "SKU_number          0\n",
       "SoldFlag            0\n",
       "SoldCount           0\n",
       "MarketingType       0\n",
       "ReleaseNumber       0\n",
       "New_Release_Flag    0\n",
       "StrengthFactor      0\n",
       "PriceReg            0\n",
       "ReleaseYear         0\n",
       "ItemCount           0\n",
       "LowUserPrice        0\n",
       "LowNetPrice         0\n",
       "dtype: int64"
      ]
     },
     "execution_count": 13,
     "metadata": {},
     "output_type": "execute_result"
    }
   ],
   "source": [
    "df.dropna(inplace = True)\n",
    "df.isnull().sum()"
   ]
  },
  {
   "cell_type": "markdown",
   "metadata": {},
   "source": [
    "# Univariate Analysis"
   ]
  },
  {
   "cell_type": "code",
   "execution_count": 16,
   "metadata": {},
   "outputs": [
    {
     "data": {
      "text/plain": [
       "<matplotlib.axes._subplots.AxesSubplot at 0x24009f632c8>"
      ]
     },
     "execution_count": 16,
     "metadata": {},
     "output_type": "execute_result"
    },
    {
     "data": {
      "image/png": "[encoded data removed]",
      "text/plain": [
       "<Figure size 432x288 with 1 Axes>"
      ]
     },
     "metadata": {
      "needs_background": "light"
     },
     "output_type": "display_data"
    }
   ],
   "source": [
    "#count by categorical data columns\n",
    "sns.countplot(x = 'MarketingType', data = df)"
   ]
  },
  {
   "cell_type": "code",
   "execution_count": 18,
   "metadata": {},
   "outputs": [
    {
     "data": {
      "text/plain": [
       "S    40877\n",
       "D    35119\n",
       "Name: MarketingType, dtype: int64"
      ]
     },
     "execution_count": 18,
     "metadata": {},
     "output_type": "execute_result"
    }
   ],
   "source": [
    "# Values of above graph\n",
    "df[\"MarketingType\"].value_counts()"
   ]
  },
  {
   "cell_type": "code",
   "execution_count": 21,
   "metadata": {},
   "outputs": [
    {
     "data": {
      "text/plain": [
       "Order                 int64\n",
       "File_Type            object\n",
       "SKU_number            int64\n",
       "SoldFlag            float64\n",
       "SoldCount           float64\n",
       "MarketingType        object\n",
       "ReleaseNumber         int64\n",
       "New_Release_Flag      int64\n",
       "StrengthFactor      float64\n",
       "PriceReg            float64\n",
       "ReleaseYear           int64\n",
       "ItemCount             int64\n",
       "LowUserPrice        float64\n",
       "LowNetPrice         float64\n",
       "dtype: object"
      ]
     },
     "execution_count": 21,
     "metadata": {},
     "output_type": "execute_result"
    }
   ],
   "source": [
    "df.dtypes"
   ]
  },
  {
   "cell_type": "code",
   "execution_count": 23,
   "metadata": {},
   "outputs": [
    {
     "data": {
      "text/plain": [
       "Index(['File_Type', 'MarketingType'], dtype='object')"
      ]
     },
     "execution_count": 23,
     "metadata": {},
     "output_type": "execute_result"
    }
   ],
   "source": [
    "df.select_dtypes(include = 'object').columns"
   ]
  },
  {
   "cell_type": "code",
   "execution_count": 25,
   "metadata": {},
   "outputs": [
    {
     "data": {
      "text/plain": [
       "Historical    75996\n",
       "Name: File_Type, dtype: int64"
      ]
     },
     "execution_count": 25,
     "metadata": {},
     "output_type": "execute_result"
    }
   ],
   "source": [
    "# get the values colunt of File_type\n",
    "df['File_Type'].value_counts()"
   ]
  },
  {
   "cell_type": "code",
   "execution_count": 26,
   "metadata": {},
   "outputs": [
    {
     "data": {
      "text/plain": [
       "<matplotlib.axes._subplots.AxesSubplot at 0x2400af23cc8>"
      ]
     },
     "execution_count": 26,
     "metadata": {},
     "output_type": "execute_result"
    },
    {
     "data": {
      "image/png": "[encoded data removed]",
      "text/plain": [
       "<Figure size 432x288 with 1 Axes>"
      ]
     },
     "metadata": {
      "needs_background": "light"
     },
     "output_type": "display_data"
    }
   ],
   "source": [
    "sns.countplot(x = 'File_Type', data = df)"
   ]
  },
  {
   "cell_type": "code",
   "execution_count": 28,
   "metadata": {},
   "outputs": [
    {
     "data": {
      "text/plain": [
       "Index(['Order', 'SKU_number', 'SoldFlag', 'SoldCount', 'ReleaseNumber',\n",
       "       'New_Release_Flag', 'StrengthFactor', 'PriceReg', 'ReleaseYear',\n",
       "       'ItemCount', 'LowUserPrice', 'LowNetPrice'],\n",
       "      dtype='object')"
      ]
     },
     "execution_count": 28,
     "metadata": {},
     "output_type": "execute_result"
    }
   ],
   "source": [
    "df.select_dtypes(include=[np.number]).columns\n"
   ]
  },
  {
   "cell_type": "code",
   "execution_count": 35,
   "metadata": {},
   "outputs": [
    {
     "data": {
      "text/plain": [
       "<matplotlib.axes._subplots.AxesSubplot at 0x2400af940c8>"
      ]
     },
     "execution_count": 35,
     "metadata": {},
     "output_type": "execute_result"
    },
    {
     "data": {
      "image/png": "[encoded data removed]",
      "text/plain": [
       "<Figure size 432x288 with 1 Axes>"
      ]
     },
     "metadata": {
      "needs_background": "light"
     },
     "output_type": "display_data"
    }
   ],
   "source": [
    "df['SoldCount']==df['SoldCount'].fillna(axis=0, method='ffill')\n",
    "sns.distplot(df['SoldCount'],kde=False,rug=True)\n"
   ]
  },
  {
   "cell_type": "code",
   "execution_count": null,
   "metadata": {},
   "outputs": [],
   "source": []
  }
 ],
 "metadata": {
  "kernelspec": {
   "display_name": "Python 3",
   "language": "python",
   "name": "python3"
  },
  "language_info": {
   "codemirror_mode": {
    "name": "ipython",
    "version": 3
   },
   "file_extension": ".py",
   "mimetype": "text/x-python",
   "name": "python",
   "nbconvert_exporter": "python",
   "pygments_lexer": "ipython3",
   "version": "3.7.4"
  }
 },
 "nbformat": 4,
 "nbformat_minor": 2
}
